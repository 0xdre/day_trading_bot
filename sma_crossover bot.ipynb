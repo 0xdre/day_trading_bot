{
 "cells": [
  {
   "cell_type": "code",
   "execution_count": 1,
   "id": "ad15a67a",
   "metadata": {},
   "outputs": [],
   "source": [
    "import pandas as pd\n",
    "import numpy as np\n",
    "import tpqoa\n",
    "from datetime import datetime, timedelta\n",
    "import time\n",
    "import matplotlib.pyplot as plt\n",
    "plt.style.use(\"seaborn\")"
   ]
  },
  {
   "cell_type": "markdown",
   "id": "07b06450",
   "metadata": {},
   "source": [
    "-------------------------------------------------------------------------------------"
   ]
  },
  {
   "cell_type": "markdown",
   "id": "96133b4b",
   "metadata": {},
   "source": [
    "# SMA backtesting code:"
   ]
  },
  {
   "cell_type": "code",
   "execution_count": 40,
   "id": "3a816c7d",
   "metadata": {},
   "outputs": [],
   "source": [
    "import pandas as pd\n",
    "import numpy as np\n",
    "import matplotlib.pyplot as plt\n",
    "from itertools import product\n",
    "plt.style.use(\"seaborn\")"
   ]
  },
  {
   "cell_type": "code",
   "execution_count": 41,
   "id": "db17e2a2",
   "metadata": {},
   "outputs": [],
   "source": [
    "api = tpqoa.tpqoa(\"oanda.cfg\")"
   ]
  },
  {
   "cell_type": "code",
   "execution_count": 42,
   "id": "11ba4a76",
   "metadata": {},
   "outputs": [
    {
     "data": {
      "text/plain": [
       "[('AUD/CAD', 'AUD_CAD'),\n",
       " ('AUD/CHF', 'AUD_CHF'),\n",
       " ('AUD/HKD', 'AUD_HKD'),\n",
       " ('AUD/JPY', 'AUD_JPY'),\n",
       " ('AUD/NZD', 'AUD_NZD'),\n",
       " ('AUD/SGD', 'AUD_SGD'),\n",
       " ('AUD/USD', 'AUD_USD'),\n",
       " ('CAD/CHF', 'CAD_CHF'),\n",
       " ('CAD/HKD', 'CAD_HKD'),\n",
       " ('CAD/JPY', 'CAD_JPY'),\n",
       " ('CAD/SGD', 'CAD_SGD'),\n",
       " ('CHF/HKD', 'CHF_HKD'),\n",
       " ('CHF/JPY', 'CHF_JPY'),\n",
       " ('CHF/ZAR', 'CHF_ZAR'),\n",
       " ('EUR/AUD', 'EUR_AUD'),\n",
       " ('EUR/CAD', 'EUR_CAD'),\n",
       " ('EUR/CHF', 'EUR_CHF'),\n",
       " ('EUR/CZK', 'EUR_CZK'),\n",
       " ('EUR/DKK', 'EUR_DKK'),\n",
       " ('EUR/GBP', 'EUR_GBP'),\n",
       " ('EUR/HKD', 'EUR_HKD'),\n",
       " ('EUR/HUF', 'EUR_HUF'),\n",
       " ('EUR/JPY', 'EUR_JPY'),\n",
       " ('EUR/NOK', 'EUR_NOK'),\n",
       " ('EUR/NZD', 'EUR_NZD'),\n",
       " ('EUR/PLN', 'EUR_PLN'),\n",
       " ('EUR/SEK', 'EUR_SEK'),\n",
       " ('EUR/SGD', 'EUR_SGD'),\n",
       " ('EUR/TRY', 'EUR_TRY'),\n",
       " ('EUR/USD', 'EUR_USD'),\n",
       " ('EUR/ZAR', 'EUR_ZAR'),\n",
       " ('GBP/AUD', 'GBP_AUD'),\n",
       " ('GBP/CAD', 'GBP_CAD'),\n",
       " ('GBP/CHF', 'GBP_CHF'),\n",
       " ('GBP/HKD', 'GBP_HKD'),\n",
       " ('GBP/JPY', 'GBP_JPY'),\n",
       " ('GBP/NZD', 'GBP_NZD'),\n",
       " ('GBP/PLN', 'GBP_PLN'),\n",
       " ('GBP/SGD', 'GBP_SGD'),\n",
       " ('GBP/USD', 'GBP_USD'),\n",
       " ('GBP/ZAR', 'GBP_ZAR'),\n",
       " ('HKD/JPY', 'HKD_JPY'),\n",
       " ('NZD/CAD', 'NZD_CAD'),\n",
       " ('NZD/CHF', 'NZD_CHF'),\n",
       " ('NZD/HKD', 'NZD_HKD'),\n",
       " ('NZD/JPY', 'NZD_JPY'),\n",
       " ('NZD/SGD', 'NZD_SGD'),\n",
       " ('NZD/USD', 'NZD_USD'),\n",
       " ('SGD/CHF', 'SGD_CHF'),\n",
       " ('SGD/JPY', 'SGD_JPY'),\n",
       " ('TRY/JPY', 'TRY_JPY'),\n",
       " ('USD/CAD', 'USD_CAD'),\n",
       " ('USD/CHF', 'USD_CHF'),\n",
       " ('USD/CNH', 'USD_CNH'),\n",
       " ('USD/CZK', 'USD_CZK'),\n",
       " ('USD/DKK', 'USD_DKK'),\n",
       " ('USD/HKD', 'USD_HKD'),\n",
       " ('USD/HUF', 'USD_HUF'),\n",
       " ('USD/JPY', 'USD_JPY'),\n",
       " ('USD/MXN', 'USD_MXN'),\n",
       " ('USD/NOK', 'USD_NOK'),\n",
       " ('USD/PLN', 'USD_PLN'),\n",
       " ('USD/SEK', 'USD_SEK'),\n",
       " ('USD/SGD', 'USD_SGD'),\n",
       " ('USD/THB', 'USD_THB'),\n",
       " ('USD/TRY', 'USD_TRY'),\n",
       " ('USD/ZAR', 'USD_ZAR'),\n",
       " ('ZAR/JPY', 'ZAR_JPY')]"
      ]
     },
     "execution_count": 42,
     "metadata": {},
     "output_type": "execute_result"
    }
   ],
   "source": [
    "api.get_instruments()"
   ]
  },
  {
   "cell_type": "code",
   "execution_count": 49,
   "id": "d3e974ee",
   "metadata": {},
   "outputs": [],
   "source": [
    "data = api.get_history(instrument = \"EUR_USD\", start = \"2021-03-29\", end = \"2022-07-15\",\n",
    "                granularity = \"M1\", price = \"M\", localize = False)"
   ]
  },
  {
   "cell_type": "code",
   "execution_count": 50,
   "id": "0527a36d",
   "metadata": {},
   "outputs": [
    {
     "data": {
      "text/html": [
       "<div>\n",
       "<style scoped>\n",
       "    .dataframe tbody tr th:only-of-type {\n",
       "        vertical-align: middle;\n",
       "    }\n",
       "\n",
       "    .dataframe tbody tr th {\n",
       "        vertical-align: top;\n",
       "    }\n",
       "\n",
       "    .dataframe thead th {\n",
       "        text-align: right;\n",
       "    }\n",
       "</style>\n",
       "<table border=\"1\" class=\"dataframe\">\n",
       "  <thead>\n",
       "    <tr style=\"text-align: right;\">\n",
       "      <th></th>\n",
       "      <th>Open</th>\n",
       "      <th>High</th>\n",
       "      <th>Low</th>\n",
       "      <th>Close</th>\n",
       "      <th>volume</th>\n",
       "      <th>complete</th>\n",
       "    </tr>\n",
       "    <tr>\n",
       "      <th>time</th>\n",
       "      <th></th>\n",
       "      <th></th>\n",
       "      <th></th>\n",
       "      <th></th>\n",
       "      <th></th>\n",
       "      <th></th>\n",
       "    </tr>\n",
       "  </thead>\n",
       "  <tbody>\n",
       "    <tr>\n",
       "      <th>2021-03-29 00:00:00+00:00</th>\n",
       "      <td>1.17874</td>\n",
       "      <td>1.17884</td>\n",
       "      <td>1.17870</td>\n",
       "      <td>1.17873</td>\n",
       "      <td>34</td>\n",
       "      <td>True</td>\n",
       "    </tr>\n",
       "    <tr>\n",
       "      <th>2021-03-29 00:01:00+00:00</th>\n",
       "      <td>1.17872</td>\n",
       "      <td>1.17873</td>\n",
       "      <td>1.17866</td>\n",
       "      <td>1.17869</td>\n",
       "      <td>31</td>\n",
       "      <td>True</td>\n",
       "    </tr>\n",
       "    <tr>\n",
       "      <th>2021-03-29 00:02:00+00:00</th>\n",
       "      <td>1.17868</td>\n",
       "      <td>1.17869</td>\n",
       "      <td>1.17860</td>\n",
       "      <td>1.17864</td>\n",
       "      <td>27</td>\n",
       "      <td>True</td>\n",
       "    </tr>\n",
       "    <tr>\n",
       "      <th>2021-03-29 00:03:00+00:00</th>\n",
       "      <td>1.17865</td>\n",
       "      <td>1.17874</td>\n",
       "      <td>1.17864</td>\n",
       "      <td>1.17871</td>\n",
       "      <td>14</td>\n",
       "      <td>True</td>\n",
       "    </tr>\n",
       "    <tr>\n",
       "      <th>2021-03-29 00:04:00+00:00</th>\n",
       "      <td>1.17869</td>\n",
       "      <td>1.17872</td>\n",
       "      <td>1.17867</td>\n",
       "      <td>1.17869</td>\n",
       "      <td>18</td>\n",
       "      <td>True</td>\n",
       "    </tr>\n",
       "    <tr>\n",
       "      <th>...</th>\n",
       "      <td>...</td>\n",
       "      <td>...</td>\n",
       "      <td>...</td>\n",
       "      <td>...</td>\n",
       "      <td>...</td>\n",
       "      <td>...</td>\n",
       "    </tr>\n",
       "    <tr>\n",
       "      <th>2022-07-14 23:55:00+00:00</th>\n",
       "      <td>1.00248</td>\n",
       "      <td>1.00248</td>\n",
       "      <td>1.00236</td>\n",
       "      <td>1.00242</td>\n",
       "      <td>45</td>\n",
       "      <td>True</td>\n",
       "    </tr>\n",
       "    <tr>\n",
       "      <th>2022-07-14 23:56:00+00:00</th>\n",
       "      <td>1.00241</td>\n",
       "      <td>1.00243</td>\n",
       "      <td>1.00240</td>\n",
       "      <td>1.00242</td>\n",
       "      <td>33</td>\n",
       "      <td>True</td>\n",
       "    </tr>\n",
       "    <tr>\n",
       "      <th>2022-07-14 23:57:00+00:00</th>\n",
       "      <td>1.00246</td>\n",
       "      <td>1.00254</td>\n",
       "      <td>1.00240</td>\n",
       "      <td>1.00254</td>\n",
       "      <td>25</td>\n",
       "      <td>True</td>\n",
       "    </tr>\n",
       "    <tr>\n",
       "      <th>2022-07-14 23:58:00+00:00</th>\n",
       "      <td>1.00252</td>\n",
       "      <td>1.00254</td>\n",
       "      <td>1.00252</td>\n",
       "      <td>1.00254</td>\n",
       "      <td>12</td>\n",
       "      <td>True</td>\n",
       "    </tr>\n",
       "    <tr>\n",
       "      <th>2022-07-14 23:59:00+00:00</th>\n",
       "      <td>1.00254</td>\n",
       "      <td>1.00266</td>\n",
       "      <td>1.00252</td>\n",
       "      <td>1.00266</td>\n",
       "      <td>72</td>\n",
       "      <td>True</td>\n",
       "    </tr>\n",
       "  </tbody>\n",
       "</table>\n",
       "<p>474599 rows × 6 columns</p>\n",
       "</div>"
      ],
      "text/plain": [
       "                              Open     High      Low    Close  volume  \\\n",
       "time                                                                    \n",
       "2021-03-29 00:00:00+00:00  1.17874  1.17884  1.17870  1.17873      34   \n",
       "2021-03-29 00:01:00+00:00  1.17872  1.17873  1.17866  1.17869      31   \n",
       "2021-03-29 00:02:00+00:00  1.17868  1.17869  1.17860  1.17864      27   \n",
       "2021-03-29 00:03:00+00:00  1.17865  1.17874  1.17864  1.17871      14   \n",
       "2021-03-29 00:04:00+00:00  1.17869  1.17872  1.17867  1.17869      18   \n",
       "...                            ...      ...      ...      ...     ...   \n",
       "2022-07-14 23:55:00+00:00  1.00248  1.00248  1.00236  1.00242      45   \n",
       "2022-07-14 23:56:00+00:00  1.00241  1.00243  1.00240  1.00242      33   \n",
       "2022-07-14 23:57:00+00:00  1.00246  1.00254  1.00240  1.00254      25   \n",
       "2022-07-14 23:58:00+00:00  1.00252  1.00254  1.00252  1.00254      12   \n",
       "2022-07-14 23:59:00+00:00  1.00254  1.00266  1.00252  1.00266      72   \n",
       "\n",
       "                           complete  \n",
       "time                                 \n",
       "2021-03-29 00:00:00+00:00      True  \n",
       "2021-03-29 00:01:00+00:00      True  \n",
       "2021-03-29 00:02:00+00:00      True  \n",
       "2021-03-29 00:03:00+00:00      True  \n",
       "2021-03-29 00:04:00+00:00      True  \n",
       "...                             ...  \n",
       "2022-07-14 23:55:00+00:00      True  \n",
       "2022-07-14 23:56:00+00:00      True  \n",
       "2022-07-14 23:57:00+00:00      True  \n",
       "2022-07-14 23:58:00+00:00      True  \n",
       "2022-07-14 23:59:00+00:00      True  \n",
       "\n",
       "[474599 rows x 6 columns]"
      ]
     },
     "execution_count": 50,
     "metadata": {},
     "output_type": "execute_result"
    }
   ],
   "source": [
    "type(data)\n",
    "data = data.rename(columns = {'o': 'Open', 'h':'High', 'l':'Low', 'c':'Close', 'v':'Volume'})\n",
    "data"
   ]
  },
  {
   "cell_type": "code",
   "execution_count": 35,
   "id": "e385b358",
   "metadata": {
    "scrolled": true
   },
   "outputs": [
    {
     "name": "stdout",
     "output_type": "stream",
     "text": [
      "Collecting backtesting\n",
      "  Downloading Backtesting-0.3.3.tar.gz (175 kB)\n",
      "\u001b[K     |████████████████████████████████| 175 kB 808 kB/s eta 0:00:01\n",
      "\u001b[?25hRequirement already satisfied: numpy>=1.17.0 in /Users/miguelbetances/opt/anaconda3/lib/python3.9/site-packages (from backtesting) (1.20.3)\n",
      "Requirement already satisfied: pandas!=0.25.0,>=0.25.0 in /Users/miguelbetances/opt/anaconda3/lib/python3.9/site-packages (from backtesting) (1.3.4)\n",
      "Requirement already satisfied: bokeh>=1.4.0 in /Users/miguelbetances/opt/anaconda3/lib/python3.9/site-packages (from backtesting) (2.4.1)\n",
      "Requirement already satisfied: typing-extensions>=3.10.0 in /Users/miguelbetances/opt/anaconda3/lib/python3.9/site-packages (from bokeh>=1.4.0->backtesting) (3.10.0.2)\n",
      "Requirement already satisfied: pillow>=7.1.0 in /Users/miguelbetances/opt/anaconda3/lib/python3.9/site-packages (from bokeh>=1.4.0->backtesting) (8.4.0)\n",
      "Requirement already satisfied: packaging>=16.8 in /Users/miguelbetances/opt/anaconda3/lib/python3.9/site-packages (from bokeh>=1.4.0->backtesting) (21.0)\n",
      "Requirement already satisfied: Jinja2>=2.9 in /Users/miguelbetances/opt/anaconda3/lib/python3.9/site-packages (from bokeh>=1.4.0->backtesting) (2.11.3)\n",
      "Requirement already satisfied: PyYAML>=3.10 in /Users/miguelbetances/opt/anaconda3/lib/python3.9/site-packages (from bokeh>=1.4.0->backtesting) (6.0)\n",
      "Requirement already satisfied: tornado>=5.1 in /Users/miguelbetances/opt/anaconda3/lib/python3.9/site-packages (from bokeh>=1.4.0->backtesting) (6.1)\n",
      "Requirement already satisfied: MarkupSafe>=0.23 in /Users/miguelbetances/opt/anaconda3/lib/python3.9/site-packages (from Jinja2>=2.9->bokeh>=1.4.0->backtesting) (1.1.1)\n",
      "Requirement already satisfied: pyparsing>=2.0.2 in /Users/miguelbetances/opt/anaconda3/lib/python3.9/site-packages (from packaging>=16.8->bokeh>=1.4.0->backtesting) (3.0.4)\n",
      "Requirement already satisfied: python-dateutil>=2.7.3 in /Users/miguelbetances/opt/anaconda3/lib/python3.9/site-packages (from pandas!=0.25.0,>=0.25.0->backtesting) (2.8.2)\n",
      "Requirement already satisfied: pytz>=2017.3 in /Users/miguelbetances/opt/anaconda3/lib/python3.9/site-packages (from pandas!=0.25.0,>=0.25.0->backtesting) (2021.3)\n",
      "Requirement already satisfied: six>=1.5 in /Users/miguelbetances/opt/anaconda3/lib/python3.9/site-packages (from python-dateutil>=2.7.3->pandas!=0.25.0,>=0.25.0->backtesting) (1.16.0)\n",
      "Building wheels for collected packages: backtesting\n",
      "  Building wheel for backtesting (setup.py) ... \u001b[?25ldone\n",
      "\u001b[?25h  Created wheel for backtesting: filename=Backtesting-0.3.3-py3-none-any.whl size=173834 sha256=84a7da829cec35f43d46079fc8b5fec7585d58c6b6726725960284763bdecedc\n",
      "  Stored in directory: /Users/miguelbetances/Library/Caches/pip/wheels/3f/7c/24/f8816cdb5359accfe50ebbb023baf41e98592f11528ed26ce6\n",
      "Successfully built backtesting\n",
      "Installing collected packages: backtesting\n",
      "Successfully installed backtesting-0.3.3\n"
     ]
    }
   ],
   "source": [
    "!pip install backtesting"
   ]
  },
  {
   "cell_type": "code",
   "execution_count": 37,
   "id": "328b2917",
   "metadata": {},
   "outputs": [],
   "source": [
    "from backtesting import Strategy\n",
    "from backtesting.lib import crossover\n",
    "from backtesting import Backtest\n"
   ]
  },
  {
   "cell_type": "code",
   "execution_count": 51,
   "id": "9b2e6fac",
   "metadata": {},
   "outputs": [],
   "source": [
    "def SMA(values, n):\n",
    "    \"\"\"\n",
    "    Return simple moving average of `values`, at\n",
    "    each step taking into account `n` previous values.\n",
    "    \"\"\"\n",
    "    return pd.Series(values).rolling(n).mean()"
   ]
  },
  {
   "cell_type": "code",
   "execution_count": 61,
   "id": "4a34d1e8",
   "metadata": {},
   "outputs": [],
   "source": [
    "class SmaCross(Strategy):\n",
    "    # Define the two MA lags as *class variables*\n",
    "    # for later optimization\n",
    "    n1 = 50\n",
    "    n2 = 200\n",
    "    \n",
    "    def init(self):\n",
    "        # Precompute the two moving averages\n",
    "        self.sma1 = self.I(SMA, self.data.Close, self.n1)\n",
    "        self.sma2 = self.I(SMA, self.data.Close, self.n2)\n",
    "    \n",
    "    def next(self):\n",
    "        # If sma1 crosses above sma2, close any existing\n",
    "        # short trades, and buy the asset\n",
    "        if crossover(self.sma1, self.sma2):\n",
    "            self.position.close()\n",
    "            self.buy()\n",
    "\n",
    "        # Else, if sma1 crosses below sma2, close any existing\n",
    "        # long trades, and sell the asset\n",
    "        elif crossover(self.sma2, self.sma1):\n",
    "            self.position.close()\n",
    "            self.sell()"
   ]
  },
  {
   "cell_type": "code",
   "execution_count": null,
   "id": "495f45ae",
   "metadata": {},
   "outputs": [],
   "source": []
  },
  {
   "cell_type": "code",
   "execution_count": 63,
   "id": "0f27672b",
   "metadata": {},
   "outputs": [
    {
     "data": {
      "text/plain": [
       "Start                     2021-03-29 00:00...\n",
       "End                       2022-07-14 23:59...\n",
       "Duration                    472 days 23:59:00\n",
       "Exposure Time [%]                   99.942899\n",
       "Equity Final [$]                   1802.55956\n",
       "Equity Peak [$]                    2004.82248\n",
       "Return [%]                          -9.872022\n",
       "Buy & Hold Return [%]              -14.937263\n",
       "Return (Ann.) [%]                   -6.129853\n",
       "Volatility (Ann.) [%]                6.352855\n",
       "Sharpe Ratio                              0.0\n",
       "Sortino Ratio                             0.0\n",
       "Calmar Ratio                              0.0\n",
       "Max. Drawdown [%]                  -12.862516\n",
       "Avg. Drawdown [%]                    -0.40282\n",
       "Max. Drawdown Duration      464 days 17:44:00\n",
       "Avg. Drawdown Duration       13 days 12:12:00\n",
       "# Trades                                 3123\n",
       "Win Rate [%]                         31.82837\n",
       "Best Trade [%]                         1.7522\n",
       "Worst Trade [%]                     -0.895316\n",
       "Avg. Trade [%]                      -0.003329\n",
       "Max. Trade Duration           2 days 15:11:00\n",
       "Avg. Trade Duration           0 days 03:39:00\n",
       "Profit Factor                         0.92952\n",
       "Expectancy [%]                       -0.00322\n",
       "SQN                                 -1.301749\n",
       "_strategy                            SmaCross\n",
       "_equity_curve                             ...\n",
       "_trades                         Size  Entr...\n",
       "dtype: object"
      ]
     },
     "execution_count": 63,
     "metadata": {},
     "output_type": "execute_result"
    }
   ],
   "source": [
    "bt = Backtest(data, SmaCross, cash = 2_000)\n",
    "bt.run()"
   ]
  },
  {
   "cell_type": "code",
   "execution_count": 65,
   "id": "a2a533b4",
   "metadata": {
    "scrolled": true
   },
   "outputs": [
    {
     "name": "stderr",
     "output_type": "stream",
     "text": [
      "/Users/miguelbetances/opt/anaconda3/lib/python3.9/site-packages/backtesting/backtesting.py:1375: UserWarning: For multiprocessing support in `Backtest.optimize()` set multiprocessing start method to 'fork'.\n",
      "  warnings.warn(\"For multiprocessing support in `Backtest.optimize()` \"\n"
     ]
    },
    {
     "data": {
      "application/vnd.jupyter.widget-view+json": {
       "model_id": "",
       "version_major": 2,
       "version_minor": 0
      },
      "text/plain": [
       "  0%|          | 0/5 [00:00<?, ?it/s]"
      ]
     },
     "metadata": {},
     "output_type": "display_data"
    },
    {
     "name": "stdout",
     "output_type": "stream",
     "text": [
      "CPU times: user 2min 57s, sys: 6.73 s, total: 3min 3s\n",
      "Wall time: 3min 12s\n"
     ]
    },
    {
     "data": {
      "text/plain": [
       "Start                     2021-03-29 00:00...\n",
       "End                       2022-07-14 23:59...\n",
       "Duration                    472 days 23:59:00\n",
       "Exposure Time [%]                   99.949852\n",
       "Equity Final [$]                   1884.90287\n",
       "Equity Peak [$]                     2002.6989\n",
       "Return [%]                          -5.754856\n",
       "Buy & Hold Return [%]              -14.937263\n",
       "Return (Ann.) [%]                   -3.412736\n",
       "Volatility (Ann.) [%]                6.036199\n",
       "Sharpe Ratio                              0.0\n",
       "Sortino Ratio                             0.0\n",
       "Calmar Ratio                              0.0\n",
       "Max. Drawdown [%]                  -10.059445\n",
       "Avg. Drawdown [%]                   -0.431574\n",
       "Max. Drawdown Duration      472 days 16:03:00\n",
       "Avg. Drawdown Duration       19 days 16:50:00\n",
       "# Trades                                 4488\n",
       "Win Rate [%]                         30.97148\n",
       "Best Trade [%]                       1.757479\n",
       "Worst Trade [%]                     -0.912483\n",
       "Avg. Trade [%]                      -0.001321\n",
       "Max. Trade Duration           2 days 12:30:00\n",
       "Avg. Trade Duration           0 days 02:32:00\n",
       "Profit Factor                        0.965473\n",
       "Expectancy [%]                      -0.001245\n",
       "SQN                                 -0.743465\n",
       "_strategy                 SmaCross(n1=30,n...\n",
       "_equity_curve                             ...\n",
       "_trades                         Size  Entr...\n",
       "dtype: object"
      ]
     },
     "execution_count": 65,
     "metadata": {},
     "output_type": "execute_result"
    }
   ],
   "source": [
    "%%time\n",
    "\n",
    "stats = bt.optimize(n1=range(20, 50, 5),\n",
    "                    n2=range(50, 200, 50),\n",
    "                    maximize='Equity Final [$]',\n",
    "                    constraint=lambda param: param.n1 < param.n2)\n",
    "stats"
   ]
  },
  {
   "cell_type": "code",
   "execution_count": 66,
   "id": "b368d710",
   "metadata": {},
   "outputs": [
    {
     "data": {
      "text/plain": [
       "<Strategy SmaCross(n1=30,n2=150)>"
      ]
     },
     "execution_count": 66,
     "metadata": {},
     "output_type": "execute_result"
    }
   ],
   "source": [
    "stats._strategy"
   ]
  },
  {
   "cell_type": "code",
   "execution_count": 6,
   "id": "e53dad2f",
   "metadata": {},
   "outputs": [],
   "source": [
    "#api.stream_data(\"EUR_USD\", stop = 20) "
   ]
  },
  {
   "cell_type": "code",
   "execution_count": 33,
   "id": "088b77ee",
   "metadata": {},
   "outputs": [],
   "source": [
    "# class SMABacktester():\n",
    "#     def __init__(self, symbol, SMA_S, SMA_L, start, end):\n",
    "#         self.symbol = symbol\n",
    "#         self.SMA_S = SMA_S\n",
    "#         self.SMA_L = SMA_L\n",
    "#         self.start = start\n",
    "#         self.end = end\n",
    "#         self.results = None\n",
    "#         self.get_data()\n",
    "        \n",
    "#     def get_data(self):\n",
    "#         raw = api.get_history(instrument = \"EUR_USD\", start = \"2021-03-29\", end = \"2021-04-15\",\n",
    "#                 granularity = \"M1\", price = \"M\", localize = False)\n",
    "#         raw.rename(columns={self.symbol: \"c\"}, inplace=True)\n",
    "#         raw[\"returns\"] = np.log(raw / raw.shift(1))\n",
    "#         raw[\"SMA_S\"] = raw[\"c\"].rolling(self.SMA_S).mean() # add short sma\n",
    "#         raw[\"SMA_L\"] = raw[\"c\"].rolling(self.SMA_L).mean()\n",
    "#         self.data = raw\n",
    "#         return raw\n",
    "    \n",
    "#     def set_parameters(self, SMA_S = None, SMA_L = None):\n",
    "#         if SMA_S is not None:\n",
    "#             self.SMA_S = SMA_S\n",
    "#             self.data[\"SMA_S\"] = self.data[\"c\"].rolling(self.SMA_S).mean()\n",
    "#         if SMA_L is not None:\n",
    "#             self.SMA_L = SMA_L\n",
    "#             self.data[\"SMA_L\"] = self.data[\"c\"].rolling(self.SMA_L).mean()\n",
    "            \n",
    "#     def test_strategy(self):\n",
    "#         data = self.data.copy().dropna()\n",
    "#         data[\"position\"] = np.where(data[\"SMA_S\"] > data[\"SMA_L\"], 1, -1)\n",
    "#         data[\"strategy\"] = data[\"position\"].shift(1) * data[\"returns\"]\n",
    "#         data.dropna(inplace=True)\n",
    "#         data[\"creturns\"] = data[\"returns\"].cumsum().apply(np.exp)\n",
    "#         data[\"cstrategy\"] = data[\"strategy\"].cumsum().apply(np.exp)\n",
    "#         self.results = data\n",
    "        \n",
    "#         perf = data[\"cstrategy\"].iloc[-1] # absolute performance\n",
    "#         outperf = perf - data[\"creturns\"].iloc[-1] # outperformance \n",
    "#         return round(perf, 6), round(outperf, 6)\n",
    "    \n",
    "#     def plot_results(self):\n",
    "#         if self.results is None:\n",
    "#             print(\"Run test_strategy() first.\")\n",
    "#         else:\n",
    "#             title = \"{} | SMA_S = {} | SMA_L = {}\".format(self.symbol, self.SMA_S, self.SMA_L)\n",
    "#             self.results[[\"creturns\", \"cstrategy\"]].plot(title=title, figsize=(12, 8))"
   ]
  },
  {
   "cell_type": "code",
   "execution_count": 67,
   "id": "48da2a4d",
   "metadata": {},
   "outputs": [],
   "source": [
    "#tester = SMABacktester(\"EURUSD=X\", 50, 200, \"2021-03-29\", \"2021-04-29\")"
   ]
  },
  {
   "cell_type": "code",
   "execution_count": 26,
   "id": "fe2c1aa1",
   "metadata": {},
   "outputs": [
    {
     "data": {
      "text/plain": [
       "SMABacktester(symbol = EURUSD=X, SMA_S = 50, SMA_L = 200, start = 2021-03-29, end = 2021-04-29)"
      ]
     },
     "execution_count": 26,
     "metadata": {},
     "output_type": "execute_result"
    }
   ],
   "source": [
    "#tester"
   ]
  },
  {
   "cell_type": "code",
   "execution_count": 68,
   "id": "fdcb3c6b",
   "metadata": {},
   "outputs": [],
   "source": [
    "#tester.test_strategy()"
   ]
  },
  {
   "cell_type": "code",
   "execution_count": 20,
   "id": "65139838",
   "metadata": {},
   "outputs": [
    {
     "data": {
      "text/html": [
       "<div>\n",
       "<style scoped>\n",
       "    .dataframe tbody tr th:only-of-type {\n",
       "        vertical-align: middle;\n",
       "    }\n",
       "\n",
       "    .dataframe tbody tr th {\n",
       "        vertical-align: top;\n",
       "    }\n",
       "\n",
       "    .dataframe thead th {\n",
       "        text-align: right;\n",
       "    }\n",
       "</style>\n",
       "<table border=\"1\" class=\"dataframe\">\n",
       "  <thead>\n",
       "    <tr style=\"text-align: right;\">\n",
       "      <th></th>\n",
       "      <th>price</th>\n",
       "      <th>returns</th>\n",
       "      <th>SMA_S</th>\n",
       "      <th>SMA_L</th>\n",
       "      <th>position</th>\n",
       "      <th>strategy</th>\n",
       "      <th>creturns</th>\n",
       "      <th>cstrategy</th>\n",
       "    </tr>\n",
       "    <tr>\n",
       "      <th>Date</th>\n",
       "      <th></th>\n",
       "      <th></th>\n",
       "      <th></th>\n",
       "      <th></th>\n",
       "      <th></th>\n",
       "      <th></th>\n",
       "      <th></th>\n",
       "      <th></th>\n",
       "    </tr>\n",
       "  </thead>\n",
       "  <tbody>\n",
       "  </tbody>\n",
       "</table>\n",
       "</div>"
      ],
      "text/plain": [
       "Empty DataFrame\n",
       "Columns: [price, returns, SMA_S, SMA_L, position, strategy, creturns, cstrategy]\n",
       "Index: []"
      ]
     },
     "execution_count": 20,
     "metadata": {},
     "output_type": "execute_result"
    }
   ],
   "source": [
    "tester.results"
   ]
  },
  {
   "cell_type": "code",
   "execution_count": null,
   "id": "5f4653b7",
   "metadata": {},
   "outputs": [],
   "source": [
    "tester.plot_results()"
   ]
  },
  {
   "cell_type": "code",
   "execution_count": null,
   "id": "c4bfbc02",
   "metadata": {},
   "outputs": [],
   "source": [
    "tester.set_parameters(75, 150)"
   ]
  },
  {
   "cell_type": "code",
   "execution_count": null,
   "id": "1f09f3ca",
   "metadata": {},
   "outputs": [],
   "source": [
    "tester.test_strategy()"
   ]
  },
  {
   "cell_type": "code",
   "execution_count": null,
   "id": "f62a78cf",
   "metadata": {},
   "outputs": [],
   "source": [
    "tester.plot_results()"
   ]
  },
  {
   "cell_type": "code",
   "execution_count": null,
   "id": "7f2d5a75",
   "metadata": {},
   "outputs": [],
   "source": [
    "tester.optimize_parameters((25, 50, 1), (100, 200, 1))"
   ]
  },
  {
   "cell_type": "code",
   "execution_count": null,
   "id": "0eece16f",
   "metadata": {},
   "outputs": [],
   "source": [
    "tester.plot_results()"
   ]
  },
  {
   "cell_type": "code",
   "execution_count": null,
   "id": "4e266c8d",
   "metadata": {},
   "outputs": [],
   "source": [
    "tester.results_overview"
   ]
  },
  {
   "cell_type": "markdown",
   "id": "6bf3d5ee",
   "metadata": {},
   "source": [
    "# Back testing and forward testing"
   ]
  },
  {
   "cell_type": "code",
   "execution_count": null,
   "id": "e4097edb",
   "metadata": {},
   "outputs": [],
   "source": [
    "train = SMA.SMABacktester(\"EURUSD=X\", 50, 200, \"2004-01-01\", \"2015-12-31\")"
   ]
  },
  {
   "cell_type": "code",
   "execution_count": null,
   "id": "88439717",
   "metadata": {},
   "outputs": [],
   "source": [
    "train.optimize_parameters((25, 50, 1), (100, 200, 1)) # optimizing strategy & backtesting (\"in-sample\")"
   ]
  },
  {
   "cell_type": "code",
   "execution_count": null,
   "id": "9c54d990",
   "metadata": {},
   "outputs": [],
   "source": [
    "train.plot_results()"
   ]
  },
  {
   "cell_type": "code",
   "execution_count": null,
   "id": "6f43a905",
   "metadata": {},
   "outputs": [],
   "source": [
    "tester = SMA.SMABacktester(\"EURUSD=X\", 46, 137, \"2016-01-01\", \"2020-06-30\")"
   ]
  },
  {
   "cell_type": "code",
   "execution_count": null,
   "id": "6f8d2048",
   "metadata": {},
   "outputs": [],
   "source": [
    "tester.test_strategy() # forward testing (\"out-sample\")"
   ]
  },
  {
   "cell_type": "code",
   "execution_count": null,
   "id": "79b25757",
   "metadata": {},
   "outputs": [],
   "source": [
    "tester.plot_results()"
   ]
  },
  {
   "cell_type": "markdown",
   "id": "eb07cd15",
   "metadata": {},
   "source": [
    "-----------------------------------------------------------------------------------------------"
   ]
  },
  {
   "cell_type": "markdown",
   "id": "b52d8f03",
   "metadata": {},
   "source": [
    "# Using class "
   ]
  },
  {
   "cell_type": "code",
   "execution_count": 69,
   "id": "8539da1b",
   "metadata": {},
   "outputs": [],
   "source": [
    "import pandas as pd\n",
    "import numpy as np\n",
    "import tpqoa\n",
    "from datetime import datetime, timedelta\n",
    "import time\n",
    "import matplotlib.pyplot as plt\n",
    "plt.style.use(\"seaborn\")"
   ]
  },
  {
   "cell_type": "code",
   "execution_count": 70,
   "id": "09f0daf6",
   "metadata": {},
   "outputs": [],
   "source": [
    "class SMATrader(tpqoa.tpqoa):\n",
    "    def __init__(self, conf_file, instrument, bar_length, SMA_S, SMA_L, units):\n",
    "        super().__init__(conf_file)\n",
    "        self.instrument = instrument\n",
    "        self.bar_length = pd.to_timedelta(bar_length)\n",
    "        self.tick_data = pd.DataFrame()\n",
    "        self.raw_data = None\n",
    "        self.data = None \n",
    "        self.last_bar = None\n",
    "        self.units = units\n",
    "        self.position = 0\n",
    "        self.profits = []\n",
    "        \n",
    "        #*****************add strategy-specific attributes here******************\n",
    "        self.SMA_S = SMA_S\n",
    "        self.SMA_L = SMA_L\n",
    "        #************************************************************************\n",
    "    \n",
    "    def get_most_recent(self, days = 5):\n",
    "        while True:\n",
    "            time.sleep(2)\n",
    "            now = datetime.utcnow()\n",
    "            now = now - timedelta(microseconds = now.microsecond)\n",
    "            past = now - timedelta(days = days)\n",
    "            df = self.get_history(instrument = self.instrument, start = past, end = now,\n",
    "                                   granularity = \"S5\", price = \"M\", localize = False).c.dropna().to_frame()\n",
    "            df.rename(columns = {\"c\":self.instrument}, inplace = True)\n",
    "            df = df.resample(self.bar_length, label = \"right\").last().dropna().iloc[:-1]\n",
    "            self.raw_data = df.copy()\n",
    "            self.last_bar = self.raw_data.index[-1]\n",
    "            if pd.to_datetime(datetime.utcnow()).tz_localize(\"UTC\") - self.last_bar < self.bar_length:\n",
    "                break\n",
    "                \n",
    "    def on_success(self, time, bid, ask):\n",
    "        print(self.ticks, end = \" \")\n",
    "        \n",
    "        recent_tick = pd.to_datetime(time)\n",
    "        df = pd.DataFrame({self.instrument:(ask + bid)/2}, \n",
    "                          index = [recent_tick])\n",
    "        self.tick_data = self.tick_data.append(df)\n",
    "        \n",
    "        if recent_tick - self.last_bar > self.bar_length:\n",
    "            self.resample_and_join()\n",
    "            self.define_strategy()\n",
    "            self.execute_trades()\n",
    "    \n",
    "    def resample_and_join(self):\n",
    "        self.raw_data = self.raw_data.append(self.tick_data.resample(self.bar_length, \n",
    "                                                                  label=\"right\").last().ffill().iloc[:-1])\n",
    "        self.tick_data = self.tick_data.iloc[-1:]\n",
    "        self.last_bar = self.raw_data.index[-1]\n",
    "    \n",
    "    def define_strategy(self): # \"strategy-specific\"\n",
    "        df = self.raw_data.copy()\n",
    "        \n",
    "        #******************** define your strategy here ************************\n",
    "        df[\"SMA_S\"] = df[self.instrument].rolling(self.SMA_S).mean()\n",
    "        df[\"SMA_L\"] = df[self.instrument].rolling(self.SMA_L).mean()\n",
    "        df[\"position\"] = np.where(df[\"SMA_S\"] > df[\"SMA_L\"], 1, -1)\n",
    "        #***********************************************************************\n",
    "        \n",
    "        self.data = df.copy()\n",
    "    \n",
    "    def execute_trades(self):\n",
    "        if self.data[\"position\"].iloc[-1] == 1:\n",
    "            if self.position == 0:\n",
    "                order = self.create_order(self.instrument, self.units, suppress = True, ret = True)\n",
    "                self.report_trade(order, \"GOING LONG\")\n",
    "            elif self.position == -1:\n",
    "                order = self.create_order(self.instrument, self.units * 2, suppress = True, ret = True) \n",
    "                self.report_trade(order, \"GOING LONG\")\n",
    "            self.position = 1\n",
    "        elif self.data[\"position\"].iloc[-1] == -1: \n",
    "            if self.position == 0:\n",
    "                order = self.create_order(self.instrument, -self.units, suppress = True, ret = True)\n",
    "                self.report_trade(order, \"GOING SHORT\")\n",
    "            elif self.position == 1:\n",
    "                order = self.create_order(self.instrument, -self.units * 2, suppress = True, ret = True)\n",
    "                self.report_trade(order, \"GOING SHORT\")\n",
    "            self.position = -1\n",
    "        elif self.data[\"position\"].iloc[-1] == 0: \n",
    "            if self.position == -1:\n",
    "                order = self.create_order(self.instrument, self.units, suppress = True, ret = True)\n",
    "                self.report_trade(order, \"GOING NEUTRAL\")\n",
    "            elif self.position == 1:\n",
    "                order = self.create_order(self.instrument, -self.units, suppress = True, ret = True) \n",
    "                self.report_trade(order, \"GOING NEUTRAL\")\n",
    "            self.position = 0\n",
    "    \n",
    "    def report_trade(self, order, going):\n",
    "        time = order[\"time\"]\n",
    "        units = order[\"units\"]\n",
    "        price = order[\"price\"]\n",
    "        pl = float(order[\"pl\"])\n",
    "        self.profits.append(pl)\n",
    "        cumpl = sum(self.profits)\n",
    "        print(\"\\n\" + 100* \"-\")\n",
    "        print(\"{} | {}\".format(time, going))\n",
    "        print(\"{} | units = {} | price = {} | P&L = {} | Cum P&L = {}\".format(time, units, price, pl, cumpl))\n",
    "        print(100 * \"-\" + \"\\n\")  \n",
    "    "
   ]
  },
  {
   "cell_type": "code",
   "execution_count": 71,
   "id": "65ed0a9d",
   "metadata": {},
   "outputs": [],
   "source": [
    "trader = SMATrader(\"oanda.cfg\", \"EUR_USD\", \"1min\", SMA_S = 50, SMA_L = 200, units = 100000)"
   ]
  },
  {
   "cell_type": "code",
   "execution_count": 73,
   "id": "870adb92",
   "metadata": {},
   "outputs": [],
   "source": [
    "# trader.get_most_recent()\n",
    "# trader.stream_data(trader.instrument, stop = 200)\n",
    "# if trader.position != 0: # if we have a final open position\n",
    "#     close_order = trader.create_order(trader.instrument, units = -trader.position * trader.units, \n",
    "#                                       suppress = True, ret = True) \n",
    "#     trader.report_trade(close_order, \"GOING NEUTRAL\")\n",
    "#     trader.position = 0"
   ]
  },
  {
   "cell_type": "code",
   "execution_count": null,
   "id": "480c2eca",
   "metadata": {},
   "outputs": [],
   "source": [
    "trader.data#.tail(20)"
   ]
  },
  {
   "cell_type": "code",
   "execution_count": null,
   "id": "bf41c135",
   "metadata": {},
   "outputs": [],
   "source": [
    "trader.data.tail(30).plot(figsize = (12, 8), secondary_y = \"position\")\n",
    "plt.show()"
   ]
  }
 ],
 "metadata": {
  "kernelspec": {
   "display_name": "Python 3 (ipykernel)",
   "language": "python",
   "name": "python3"
  },
  "language_info": {
   "codemirror_mode": {
    "name": "ipython",
    "version": 3
   },
   "file_extension": ".py",
   "mimetype": "text/x-python",
   "name": "python",
   "nbconvert_exporter": "python",
   "pygments_lexer": "ipython3",
   "version": "3.9.7"
  }
 },
 "nbformat": 4,
 "nbformat_minor": 5
}
