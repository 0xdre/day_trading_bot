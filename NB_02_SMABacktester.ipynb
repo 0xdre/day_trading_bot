{
 "cells": [
  {
   "cell_type": "markdown",
   "metadata": {},
   "source": [
    "# Generalization with OOP: The SMABacktester Class"
   ]
  },
  {
   "cell_type": "markdown",
   "metadata": {},
   "source": [
    "## Using the SMABacktester Class"
   ]
  },
  {
   "cell_type": "code",
   "execution_count": 1,
   "metadata": {},
   "outputs": [],
   "source": [
    "import pandas as pd\n",
    "import numpy as np\n",
    "import matplotlib.pyplot as plt\n",
    "from itertools import product\n",
    "plt.style.use(\"seaborn\")"
   ]
  },
  {
   "cell_type": "code",
   "execution_count": 2,
   "metadata": {},
   "outputs": [
    {
     "data": {
      "text/html": [
       "<div>\n",
       "<style scoped>\n",
       "    .dataframe tbody tr th:only-of-type {\n",
       "        vertical-align: middle;\n",
       "    }\n",
       "\n",
       "    .dataframe tbody tr th {\n",
       "        vertical-align: top;\n",
       "    }\n",
       "\n",
       "    .dataframe thead th {\n",
       "        text-align: right;\n",
       "    }\n",
       "</style>\n",
       "<table border=\"1\" class=\"dataframe\">\n",
       "  <thead>\n",
       "    <tr style=\"text-align: right;\">\n",
       "      <th></th>\n",
       "      <th>AUDEUR=X</th>\n",
       "      <th>EURUSD=X</th>\n",
       "      <th>USDGBP=X</th>\n",
       "    </tr>\n",
       "    <tr>\n",
       "      <th>Date</th>\n",
       "      <th></th>\n",
       "      <th></th>\n",
       "      <th></th>\n",
       "    </tr>\n",
       "  </thead>\n",
       "  <tbody>\n",
       "    <tr>\n",
       "      <th>2004-01-01</th>\n",
       "      <td>0.59780</td>\n",
       "      <td>1.258194</td>\n",
       "      <td>0.56016</td>\n",
       "    </tr>\n",
       "    <tr>\n",
       "      <th>2004-01-02</th>\n",
       "      <td>0.60314</td>\n",
       "      <td>1.258194</td>\n",
       "      <td>0.55751</td>\n",
       "    </tr>\n",
       "    <tr>\n",
       "      <th>2004-01-05</th>\n",
       "      <td>0.60467</td>\n",
       "      <td>1.268698</td>\n",
       "      <td>0.55334</td>\n",
       "    </tr>\n",
       "    <tr>\n",
       "      <th>2004-01-06</th>\n",
       "      <td>0.60350</td>\n",
       "      <td>1.272103</td>\n",
       "      <td>0.54906</td>\n",
       "    </tr>\n",
       "    <tr>\n",
       "      <th>2004-01-07</th>\n",
       "      <td>0.60728</td>\n",
       "      <td>1.264095</td>\n",
       "      <td>0.55012</td>\n",
       "    </tr>\n",
       "    <tr>\n",
       "      <th>...</th>\n",
       "      <td>...</td>\n",
       "      <td>...</td>\n",
       "      <td>...</td>\n",
       "    </tr>\n",
       "    <tr>\n",
       "      <th>2020-06-24</th>\n",
       "      <td>0.61349</td>\n",
       "      <td>1.131235</td>\n",
       "      <td>0.79841</td>\n",
       "    </tr>\n",
       "    <tr>\n",
       "      <th>2020-06-25</th>\n",
       "      <td>0.60938</td>\n",
       "      <td>1.125087</td>\n",
       "      <td>0.80561</td>\n",
       "    </tr>\n",
       "    <tr>\n",
       "      <th>2020-06-26</th>\n",
       "      <td>0.61373</td>\n",
       "      <td>1.122208</td>\n",
       "      <td>0.80480</td>\n",
       "    </tr>\n",
       "    <tr>\n",
       "      <th>2020-06-29</th>\n",
       "      <td>0.61128</td>\n",
       "      <td>1.122586</td>\n",
       "      <td>0.81023</td>\n",
       "    </tr>\n",
       "    <tr>\n",
       "      <th>2020-06-30</th>\n",
       "      <td>0.61097</td>\n",
       "      <td>1.124720</td>\n",
       "      <td>0.81231</td>\n",
       "    </tr>\n",
       "  </tbody>\n",
       "</table>\n",
       "<p>4295 rows × 3 columns</p>\n",
       "</div>"
      ],
      "text/plain": [
       "            AUDEUR=X  EURUSD=X  USDGBP=X\n",
       "Date                                    \n",
       "2004-01-01   0.59780  1.258194   0.56016\n",
       "2004-01-02   0.60314  1.258194   0.55751\n",
       "2004-01-05   0.60467  1.268698   0.55334\n",
       "2004-01-06   0.60350  1.272103   0.54906\n",
       "2004-01-07   0.60728  1.264095   0.55012\n",
       "...              ...       ...       ...\n",
       "2020-06-24   0.61349  1.131235   0.79841\n",
       "2020-06-25   0.60938  1.125087   0.80561\n",
       "2020-06-26   0.61373  1.122208   0.80480\n",
       "2020-06-29   0.61128  1.122586   0.81023\n",
       "2020-06-30   0.61097  1.124720   0.81231\n",
       "\n",
       "[4295 rows x 3 columns]"
      ]
     },
     "execution_count": 2,
     "metadata": {},
     "output_type": "execute_result"
    }
   ],
   "source": [
    "df = pd.read_csv(\"forex_pairs.csv\", parse_dates = [\"Date\"], index_col = \"Date\")\n",
    "df"
   ]
  },
  {
   "cell_type": "code",
   "execution_count": 3,
   "metadata": {},
   "outputs": [
    {
     "name": "stdout",
     "output_type": "stream",
     "text": [
      "<class 'pandas.core.frame.DataFrame'>\n",
      "DatetimeIndex: 4295 entries, 2004-01-01 to 2020-06-30\n",
      "Data columns (total 3 columns):\n",
      " #   Column    Non-Null Count  Dtype  \n",
      "---  ------    --------------  -----  \n",
      " 0   AUDEUR=X  4274 non-null   float64\n",
      " 1   EURUSD=X  4275 non-null   float64\n",
      " 2   USDGBP=X  4287 non-null   float64\n",
      "dtypes: float64(3)\n",
      "memory usage: 134.2 KB\n"
     ]
    }
   ],
   "source": [
    "df.info()"
   ]
  },
  {
   "cell_type": "code",
   "execution_count": 4,
   "metadata": {},
   "outputs": [
    {
     "ename": "ModuleNotFoundError",
     "evalue": "No module named 'SMABacktester'",
     "output_type": "error",
     "traceback": [
      "\u001b[0;31m---------------------------------------------------------------------------\u001b[0m",
      "\u001b[0;31mModuleNotFoundError\u001b[0m                       Traceback (most recent call last)",
      "\u001b[0;32m/var/folders/y_/7xc5p8ys2kn230t3ljr33r0m0000gn/T/ipykernel_5471/844886976.py\u001b[0m in \u001b[0;36m<module>\u001b[0;34m\u001b[0m\n\u001b[0;32m----> 1\u001b[0;31m \u001b[0;32mimport\u001b[0m \u001b[0mSMABacktester\u001b[0m \u001b[0;32mas\u001b[0m \u001b[0mSMA\u001b[0m\u001b[0;34m\u001b[0m\u001b[0;34m\u001b[0m\u001b[0m\n\u001b[0m",
      "\u001b[0;31mModuleNotFoundError\u001b[0m: No module named 'SMABacktester'"
     ]
    }
   ],
   "source": [
    "import SMABacktester as SMA"
   ]
  },
  {
   "cell_type": "code",
   "execution_count": null,
   "metadata": {},
   "outputs": [],
   "source": [
    "tester = SMA.SMABacktester(\"EURUSD=X\", 50, 200, \"2004-01-01\", \"2020-06-30\")"
   ]
  },
  {
   "cell_type": "code",
   "execution_count": null,
   "metadata": {},
   "outputs": [],
   "source": [
    "tester"
   ]
  },
  {
   "cell_type": "code",
   "execution_count": null,
   "metadata": {},
   "outputs": [],
   "source": [
    "tester.test_strategy()"
   ]
  },
  {
   "cell_type": "code",
   "execution_count": null,
   "metadata": {},
   "outputs": [],
   "source": [
    "tester.results"
   ]
  },
  {
   "cell_type": "code",
   "execution_count": null,
   "metadata": {},
   "outputs": [],
   "source": [
    "tester.plot_results()"
   ]
  },
  {
   "cell_type": "code",
   "execution_count": null,
   "metadata": {},
   "outputs": [],
   "source": [
    "tester.set_parameters(75, 150)"
   ]
  },
  {
   "cell_type": "code",
   "execution_count": null,
   "metadata": {},
   "outputs": [],
   "source": [
    "tester.test_strategy()"
   ]
  },
  {
   "cell_type": "code",
   "execution_count": null,
   "metadata": {},
   "outputs": [],
   "source": [
    "tester.plot_results()"
   ]
  },
  {
   "cell_type": "code",
   "execution_count": null,
   "metadata": {},
   "outputs": [],
   "source": [
    "tester.optimize_parameters((25, 50, 1), (100, 200, 1))"
   ]
  },
  {
   "cell_type": "code",
   "execution_count": null,
   "metadata": {},
   "outputs": [],
   "source": [
    "tester.plot_results()"
   ]
  },
  {
   "cell_type": "code",
   "execution_count": null,
   "metadata": {},
   "outputs": [],
   "source": [
    "tester.results_overview"
   ]
  },
  {
   "cell_type": "code",
   "execution_count": null,
   "metadata": {},
   "outputs": [],
   "source": []
  },
  {
   "cell_type": "markdown",
   "metadata": {},
   "source": [
    "__Backtesting & Forward Testing__"
   ]
  },
  {
   "cell_type": "code",
   "execution_count": null,
   "metadata": {},
   "outputs": [],
   "source": [
    "train = SMA.SMABacktester(\"EURUSD=X\", 50, 200, \"2004-01-01\", \"2015-12-31\")"
   ]
  },
  {
   "cell_type": "code",
   "execution_count": null,
   "metadata": {},
   "outputs": [],
   "source": [
    "train.optimize_parameters((25, 50, 1), (100, 200, 1)) # optimizing strategy & backtesting (\"in-sample\")"
   ]
  },
  {
   "cell_type": "code",
   "execution_count": null,
   "metadata": {},
   "outputs": [],
   "source": [
    "train.plot_results()"
   ]
  },
  {
   "cell_type": "code",
   "execution_count": null,
   "metadata": {},
   "outputs": [],
   "source": [
    "tester = SMA.SMABacktester(\"EURUSD=X\", 46, 137, \"2016-01-01\", \"2020-06-30\")"
   ]
  },
  {
   "cell_type": "code",
   "execution_count": null,
   "metadata": {},
   "outputs": [],
   "source": [
    "tester.test_strategy() # forward testing (\"out-sample\")"
   ]
  },
  {
   "cell_type": "code",
   "execution_count": null,
   "metadata": {},
   "outputs": [],
   "source": [
    "tester.plot_results()"
   ]
  },
  {
   "cell_type": "markdown",
   "metadata": {},
   "source": [
    "__AUD/EUR__"
   ]
  },
  {
   "cell_type": "code",
   "execution_count": null,
   "metadata": {},
   "outputs": [],
   "source": [
    "tester = SMA.SMABacktester(\"AUDEUR=X\", 50, 200, \"2004-01-01\", \"2020-06-30\")"
   ]
  },
  {
   "cell_type": "code",
   "execution_count": null,
   "metadata": {},
   "outputs": [],
   "source": [
    "tester.test_strategy()"
   ]
  },
  {
   "cell_type": "code",
   "execution_count": null,
   "metadata": {
    "scrolled": false
   },
   "outputs": [],
   "source": [
    "tester.plot_results()"
   ]
  },
  {
   "cell_type": "code",
   "execution_count": null,
   "metadata": {},
   "outputs": [],
   "source": [
    "tester.optimize_parameters((25, 50, 1), (100, 200, 1))"
   ]
  },
  {
   "cell_type": "code",
   "execution_count": null,
   "metadata": {},
   "outputs": [],
   "source": [
    "tester.plot_results()"
   ]
  },
  {
   "cell_type": "code",
   "execution_count": null,
   "metadata": {},
   "outputs": [],
   "source": []
  },
  {
   "cell_type": "markdown",
   "metadata": {},
   "source": [
    "## Building the SMABacktester Class from scratch: Instantiation"
   ]
  },
  {
   "cell_type": "code",
   "execution_count": null,
   "metadata": {},
   "outputs": [],
   "source": [
    "class SMABacktester():\n",
    "    def __init__(self, symbol, SMA_S, SMA_L, start, end):\n",
    "        self.symbol = symbol\n",
    "        self.SMA_S = SMA_S\n",
    "        self.SMA_L = SMA_L\n",
    "        self.start = start\n",
    "        self.end = end\n",
    "        self.results = None"
   ]
  },
  {
   "cell_type": "code",
   "execution_count": null,
   "metadata": {},
   "outputs": [],
   "source": [
    "tester = SMABacktester(\"AUDEUR=X\", 50, 200, \"2004-01-01\", \"2020-06-30\")"
   ]
  },
  {
   "cell_type": "code",
   "execution_count": null,
   "metadata": {},
   "outputs": [],
   "source": [
    "tester.symbol"
   ]
  },
  {
   "cell_type": "code",
   "execution_count": null,
   "metadata": {},
   "outputs": [],
   "source": [
    "tester.SMA_L"
   ]
  },
  {
   "cell_type": "code",
   "execution_count": null,
   "metadata": {},
   "outputs": [],
   "source": [
    "tester.results"
   ]
  },
  {
   "cell_type": "code",
   "execution_count": null,
   "metadata": {},
   "outputs": [],
   "source": []
  },
  {
   "cell_type": "markdown",
   "metadata": {},
   "source": [
    "## Method get_data()"
   ]
  },
  {
   "cell_type": "code",
   "execution_count": null,
   "metadata": {},
   "outputs": [],
   "source": [
    "raw = pd.read_csv(\"forex_pairs.csv\", parse_dates = [\"Date\"], index_col = \"Date\") # importing data\n",
    "raw"
   ]
  },
  {
   "cell_type": "code",
   "execution_count": null,
   "metadata": {},
   "outputs": [],
   "source": [
    "raw = raw[\"AUDEUR=X\"].to_frame().dropna() # selecting an instrument\n",
    "raw"
   ]
  },
  {
   "cell_type": "code",
   "execution_count": null,
   "metadata": {},
   "outputs": [],
   "source": [
    "raw = raw.loc[\"2010-01-01\":\"2012-12-31\"].copy() # setting time period \n",
    "raw"
   ]
  },
  {
   "cell_type": "code",
   "execution_count": null,
   "metadata": {},
   "outputs": [],
   "source": [
    "raw.rename(columns={\"AUDEUR=X\": \"price\"}, inplace=True) # clean up"
   ]
  },
  {
   "cell_type": "code",
   "execution_count": null,
   "metadata": {},
   "outputs": [],
   "source": [
    "raw"
   ]
  },
  {
   "cell_type": "code",
   "execution_count": null,
   "metadata": {},
   "outputs": [],
   "source": [
    "raw[\"returns\"] = np.log(raw / raw.shift(1)) # calculate log returns"
   ]
  },
  {
   "cell_type": "code",
   "execution_count": null,
   "metadata": {},
   "outputs": [],
   "source": [
    "raw[\"SMA_S\"] = raw[\"price\"].rolling(50).mean() # add short sma\n",
    "raw[\"SMA_L\"] = raw[\"price\"].rolling(200).mean() # add long sma"
   ]
  },
  {
   "cell_type": "code",
   "execution_count": null,
   "metadata": {},
   "outputs": [],
   "source": [
    "raw"
   ]
  },
  {
   "cell_type": "code",
   "execution_count": null,
   "metadata": {},
   "outputs": [],
   "source": [
    "class SMABacktester():\n",
    "    def __init__(self, symbol, SMA_S, SMA_L, start, end):\n",
    "        self.symbol = symbol\n",
    "        self.SMA_S = SMA_S\n",
    "        self.SMA_L = SMA_L\n",
    "        self.start = start\n",
    "        self.end = end\n",
    "        self.results = None\n",
    "        self.get_data()\n",
    "        \n",
    "    def get_data(self):\n",
    "        raw = pd.read_csv(\"forex_pairs.csv\", parse_dates = [\"Date\"], index_col = \"Date\")\n",
    "        raw = raw[self.symbol].to_frame().dropna()\n",
    "        raw = raw.loc[self.start:self.end].copy()\n",
    "        raw.rename(columns={self.symbol: \"price\"}, inplace=True)\n",
    "        raw[\"returns\"] = np.log(raw / raw.shift(1))\n",
    "        raw[\"SMA_S\"] = raw[\"price\"].rolling(self.SMA_S).mean() # add short sma\n",
    "        raw[\"SMA_L\"] = raw[\"price\"].rolling(self.SMA_L).mean()\n",
    "        self.data = raw\n",
    "        return raw\n",
    "    "
   ]
  },
  {
   "cell_type": "code",
   "execution_count": null,
   "metadata": {},
   "outputs": [],
   "source": [
    "tester = SMABacktester(\"AUDEUR=X\", 50, 200, \"2010-01-01\", \"2019-12-31\")"
   ]
  },
  {
   "cell_type": "code",
   "execution_count": null,
   "metadata": {},
   "outputs": [],
   "source": [
    "tester.data"
   ]
  },
  {
   "cell_type": "code",
   "execution_count": null,
   "metadata": {},
   "outputs": [],
   "source": [
    "tester.get_data()"
   ]
  },
  {
   "cell_type": "code",
   "execution_count": null,
   "metadata": {},
   "outputs": [],
   "source": []
  },
  {
   "cell_type": "markdown",
   "metadata": {},
   "source": [
    "## Setting new SMA Paramters"
   ]
  },
  {
   "cell_type": "code",
   "execution_count": null,
   "metadata": {},
   "outputs": [],
   "source": [
    "tester.SMA_S"
   ]
  },
  {
   "cell_type": "code",
   "execution_count": null,
   "metadata": {},
   "outputs": [],
   "source": [
    "tester.SMA_L"
   ]
  },
  {
   "cell_type": "code",
   "execution_count": null,
   "metadata": {},
   "outputs": [],
   "source": [
    "tester.data.isna().sum()"
   ]
  },
  {
   "cell_type": "code",
   "execution_count": null,
   "metadata": {},
   "outputs": [],
   "source": [
    "tester.SMA_L = 250"
   ]
  },
  {
   "cell_type": "code",
   "execution_count": null,
   "metadata": {},
   "outputs": [],
   "source": [
    "tester.SMA_L"
   ]
  },
  {
   "cell_type": "code",
   "execution_count": null,
   "metadata": {},
   "outputs": [],
   "source": [
    "tester.data.isna().sum()"
   ]
  },
  {
   "cell_type": "code",
   "execution_count": null,
   "metadata": {},
   "outputs": [],
   "source": [
    "class SMABacktester():\n",
    "    def __init__(self, symbol, SMA_S, SMA_L, start, end):\n",
    "        self.symbol = symbol\n",
    "        self.SMA_S = SMA_S\n",
    "        self.SMA_L = SMA_L\n",
    "        self.start = start\n",
    "        self.end = end\n",
    "        self.results = None\n",
    "        self.get_data()\n",
    "        \n",
    "    def get_data(self):\n",
    "        raw = pd.read_csv(\"forex_pairs.csv\", parse_dates = [\"Date\"], index_col = \"Date\")\n",
    "        raw = raw[self.symbol].to_frame().dropna()\n",
    "        raw = raw.loc[self.start:self.end].copy()\n",
    "        raw.rename(columns={self.symbol: \"price\"}, inplace=True)\n",
    "        raw[\"returns\"] = np.log(raw / raw.shift(1))\n",
    "        raw[\"SMA_S\"] = raw[\"price\"].rolling(self.SMA_S).mean() # add short sma\n",
    "        raw[\"SMA_L\"] = raw[\"price\"].rolling(self.SMA_L).mean()\n",
    "        self.data = raw\n",
    "        return raw\n",
    "    \n",
    "    def set_parameters(self, SMA_S = None, SMA_L = None):\n",
    "        if SMA_S is not None:\n",
    "            self.SMA_S = SMA_S\n",
    "            self.data[\"SMA_S\"] = self.data[\"price\"].rolling(self.SMA_S).mean()\n",
    "        if SMA_L is not None:\n",
    "            self.SMA_L = SMA_L\n",
    "            self.data[\"SMA_L\"] = self.data[\"price\"].rolling(self.SMA_L).mean()"
   ]
  },
  {
   "cell_type": "code",
   "execution_count": null,
   "metadata": {},
   "outputs": [],
   "source": [
    "tester = SMABacktester(\"AUDEUR=X\", 50, 200, \"2010-01-01\", \"2019-12-31\")"
   ]
  },
  {
   "cell_type": "code",
   "execution_count": null,
   "metadata": {},
   "outputs": [],
   "source": [
    "tester.data.isna().sum()"
   ]
  },
  {
   "cell_type": "code",
   "execution_count": null,
   "metadata": {},
   "outputs": [],
   "source": [
    "tester.set_parameters(SMA_S = 25, SMA_L = 150)"
   ]
  },
  {
   "cell_type": "code",
   "execution_count": null,
   "metadata": {},
   "outputs": [],
   "source": [
    "tester.SMA_S"
   ]
  },
  {
   "cell_type": "code",
   "execution_count": null,
   "metadata": {},
   "outputs": [],
   "source": [
    "tester.data.isna().sum()"
   ]
  },
  {
   "cell_type": "code",
   "execution_count": null,
   "metadata": {},
   "outputs": [],
   "source": []
  },
  {
   "cell_type": "markdown",
   "metadata": {},
   "source": [
    "## Testing a Strategy"
   ]
  },
  {
   "cell_type": "code",
   "execution_count": null,
   "metadata": {},
   "outputs": [],
   "source": [
    "class SMABacktester():\n",
    "    def __init__(self, symbol, SMA_S, SMA_L, start, end):\n",
    "        self.symbol = symbol\n",
    "        self.SMA_S = SMA_S\n",
    "        self.SMA_L = SMA_L\n",
    "        self.start = start\n",
    "        self.end = end\n",
    "        self.results = None\n",
    "        self.get_data()\n",
    "        \n",
    "    def get_data(self):\n",
    "        raw = pd.read_csv(\"forex_pairs.csv\", parse_dates = [\"Date\"], index_col = \"Date\")\n",
    "        raw = raw[self.symbol].to_frame().dropna()\n",
    "        raw = raw.loc[self.start:self.end].copy()\n",
    "        raw.rename(columns={self.symbol: \"price\"}, inplace=True)\n",
    "        raw[\"returns\"] = np.log(raw / raw.shift(1))\n",
    "        raw[\"SMA_S\"] = raw[\"price\"].rolling(self.SMA_S).mean() # add short sma\n",
    "        raw[\"SMA_L\"] = raw[\"price\"].rolling(self.SMA_L).mean()\n",
    "        self.data = raw\n",
    "        return raw\n",
    "    \n",
    "    def set_parameters(self, SMA_S = None, SMA_L = None):\n",
    "        if SMA_S is not None:\n",
    "            self.SMA_S = SMA_S\n",
    "            self.data[\"SMA_S\"] = self.data[\"price\"].rolling(self.SMA_S).mean()\n",
    "        if SMA_L is not None:\n",
    "            self.SMA_L = SMA_L\n",
    "            self.data[\"SMA_L\"] = self.data[\"price\"].rolling(self.SMA_L).mean()\n",
    "            \n",
    "    def test_strategy(self):\n",
    "        data = self.data.copy().dropna()\n",
    "        data[\"position\"] = np.where(data[\"SMA_S\"] > data[\"SMA_L\"], 1, -1)\n",
    "        data[\"strategy\"] = data[\"position\"].shift(1) * data[\"returns\"]\n",
    "        data.dropna(inplace=True)\n",
    "        data[\"creturns\"] = data[\"returns\"].cumsum().apply(np.exp)\n",
    "        data[\"cstrategy\"] = data[\"strategy\"].cumsum().apply(np.exp)\n",
    "        self.results = data\n",
    "        \n",
    "        perf = data[\"cstrategy\"].iloc[-1] # absolute performance\n",
    "        outperf = perf - data[\"creturns\"].iloc[-1] # outperformance \n",
    "        return round(perf, 6), round(outperf, 6)"
   ]
  },
  {
   "cell_type": "code",
   "execution_count": null,
   "metadata": {},
   "outputs": [],
   "source": [
    "tester = SMABacktester(\"EURUSD=X\", 50, 200, \"2004-01-01\", \"2020-06-30\")"
   ]
  },
  {
   "cell_type": "code",
   "execution_count": null,
   "metadata": {},
   "outputs": [],
   "source": [
    "tester.test_strategy()"
   ]
  },
  {
   "cell_type": "code",
   "execution_count": null,
   "metadata": {},
   "outputs": [],
   "source": [
    "tester.data"
   ]
  },
  {
   "cell_type": "code",
   "execution_count": null,
   "metadata": {},
   "outputs": [],
   "source": [
    "tester.results"
   ]
  },
  {
   "cell_type": "code",
   "execution_count": null,
   "metadata": {},
   "outputs": [],
   "source": []
  },
  {
   "cell_type": "markdown",
   "metadata": {},
   "source": [
    "## Plotting the results"
   ]
  },
  {
   "cell_type": "code",
   "execution_count": null,
   "metadata": {},
   "outputs": [],
   "source": [
    "class SMABacktester():\n",
    "    def __init__(self, symbol, SMA_S, SMA_L, start, end):\n",
    "        self.symbol = symbol\n",
    "        self.SMA_S = SMA_S\n",
    "        self.SMA_L = SMA_L\n",
    "        self.start = start\n",
    "        self.end = end\n",
    "        self.results = None\n",
    "        self.get_data()\n",
    "        \n",
    "    def get_data(self):\n",
    "        raw = pd.read_csv(\"forex_pairs.csv\", parse_dates = [\"Date\"], index_col = \"Date\")\n",
    "        raw = raw[self.symbol].to_frame().dropna()\n",
    "        raw = raw.loc[self.start:self.end].copy()\n",
    "        raw.rename(columns={self.symbol: \"price\"}, inplace=True)\n",
    "        raw[\"returns\"] = np.log(raw / raw.shift(1))\n",
    "        raw[\"SMA_S\"] = raw[\"price\"].rolling(self.SMA_S).mean() # add short sma\n",
    "        raw[\"SMA_L\"] = raw[\"price\"].rolling(self.SMA_L).mean()\n",
    "        self.data = raw\n",
    "        return raw\n",
    "    \n",
    "    def set_parameters(self, SMA_S = None, SMA_L = None):\n",
    "        if SMA_S is not None:\n",
    "            self.SMA_S = SMA_S\n",
    "            self.data[\"SMA_S\"] = self.data[\"price\"].rolling(self.SMA_S).mean()\n",
    "        if SMA_L is not None:\n",
    "            self.SMA_L = SMA_L\n",
    "            self.data[\"SMA_L\"] = self.data[\"price\"].rolling(self.SMA_L).mean()\n",
    "            \n",
    "    def test_strategy(self):\n",
    "        data = self.data.copy().dropna()\n",
    "        data[\"position\"] = np.where(data[\"SMA_S\"] > data[\"SMA_L\"], 1, -1)\n",
    "        data[\"strategy\"] = data[\"position\"].shift(1) * data[\"returns\"]\n",
    "        data.dropna(inplace=True)\n",
    "        data[\"creturns\"] = data[\"returns\"].cumsum().apply(np.exp)\n",
    "        data[\"cstrategy\"] = data[\"strategy\"].cumsum().apply(np.exp)\n",
    "        self.results = data\n",
    "        \n",
    "        perf = data[\"cstrategy\"].iloc[-1] # absolute performance\n",
    "        outperf = perf - data[\"creturns\"].iloc[-1] # outperformance \n",
    "        return round(perf, 6), round(outperf, 6)\n",
    "    \n",
    "    def plot_results(self):\n",
    "        if self.results is None:\n",
    "            print(\"Run test_strategy() first.\")\n",
    "        else:\n",
    "            title = \"{} | SMA_S = {} | SMA_L = {}\".format(self.symbol, self.SMA_S, self.SMA_L)\n",
    "            self.results[[\"creturns\", \"cstrategy\"]].plot(title=title, figsize=(12, 8))"
   ]
  },
  {
   "cell_type": "code",
   "execution_count": null,
   "metadata": {},
   "outputs": [],
   "source": [
    "tester = SMABacktester(\"EURUSD=X\", 50, 200, \"2004-01-01\", \"2020-06-30\")"
   ]
  },
  {
   "cell_type": "code",
   "execution_count": null,
   "metadata": {},
   "outputs": [],
   "source": [
    "tester.plot_results()"
   ]
  },
  {
   "cell_type": "code",
   "execution_count": null,
   "metadata": {},
   "outputs": [],
   "source": [
    "tester.test_strategy()"
   ]
  },
  {
   "cell_type": "code",
   "execution_count": null,
   "metadata": {},
   "outputs": [],
   "source": [
    "tester.plot_results()"
   ]
  },
  {
   "cell_type": "code",
   "execution_count": null,
   "metadata": {},
   "outputs": [],
   "source": []
  },
  {
   "cell_type": "markdown",
   "metadata": {},
   "source": [
    "## Strategy Optimization"
   ]
  },
  {
   "cell_type": "code",
   "execution_count": null,
   "metadata": {},
   "outputs": [],
   "source": [
    "tester.set_parameters(25, 150)"
   ]
  },
  {
   "cell_type": "code",
   "execution_count": null,
   "metadata": {},
   "outputs": [],
   "source": [
    "tester.test_strategy()[0]"
   ]
  },
  {
   "cell_type": "code",
   "execution_count": null,
   "metadata": {},
   "outputs": [],
   "source": [
    "class SMABacktester():\n",
    "    def __init__(self, symbol, SMA_S, SMA_L, start, end):\n",
    "        self.symbol = symbol\n",
    "        self.SMA_S = SMA_S\n",
    "        self.SMA_L = SMA_L\n",
    "        self.start = start\n",
    "        self.end = end\n",
    "        self.results = None\n",
    "        self.get_data()\n",
    "        \n",
    "    def get_data(self):\n",
    "        raw = pd.read_csv(\"forex_pairs.csv\", parse_dates = [\"Date\"], index_col = \"Date\")\n",
    "        raw = raw[self.symbol].to_frame().dropna()\n",
    "        raw = raw.loc[self.start:self.end].copy()\n",
    "        raw.rename(columns={self.symbol: \"price\"}, inplace=True)\n",
    "        raw[\"returns\"] = np.log(raw / raw.shift(1))\n",
    "        raw[\"SMA_S\"] = raw[\"price\"].rolling(self.SMA_S).mean() # add short sma\n",
    "        raw[\"SMA_L\"] = raw[\"price\"].rolling(self.SMA_L).mean()\n",
    "        self.data = raw\n",
    "        return raw\n",
    "    \n",
    "    def set_parameters(self, SMA_S = None, SMA_L = None):\n",
    "        if SMA_S is not None:\n",
    "            self.SMA_S = SMA_S\n",
    "            self.data[\"SMA_S\"] = self.data[\"price\"].rolling(self.SMA_S).mean()\n",
    "        if SMA_L is not None:\n",
    "            self.SMA_L = SMA_L\n",
    "            self.data[\"SMA_L\"] = self.data[\"price\"].rolling(self.SMA_L).mean()\n",
    "            \n",
    "    def test_strategy(self):\n",
    "        data = self.data.copy().dropna()\n",
    "        data[\"position\"] = np.where(data[\"SMA_S\"] > data[\"SMA_L\"], 1, -1)\n",
    "        data[\"strategy\"] = data[\"position\"].shift(1) * data[\"returns\"]\n",
    "        data.dropna(inplace=True)\n",
    "        data[\"creturns\"] = data[\"returns\"].cumsum().apply(np.exp)\n",
    "        data[\"cstrategy\"] = data[\"strategy\"].cumsum().apply(np.exp)\n",
    "        self.results = data\n",
    "        \n",
    "        perf = data[\"cstrategy\"].iloc[-1] # absolute performance\n",
    "        outperf = perf - data[\"creturns\"].iloc[-1] # outperformance \n",
    "        return round(perf, 6), round(outperf, 6)\n",
    "    \n",
    "    def plot_results(self):\n",
    "        if self.results is None:\n",
    "            print(\"Run test_strategy() first.\")\n",
    "        else:\n",
    "            title = \"{} | SMA_S = {} | SMA_L = {}\".format(self.symbol, self.SMA_S, self.SMA_L)\n",
    "            self.results[[\"creturns\", \"cstrategy\"]].plot(title=title, figsize=(12, 8))\n",
    "            \n",
    "    def optimize_parameters(self, SMA_S_range, SMA_L_range): \n",
    "        combinations = list(product(range(*SMA_S_range), range(*SMA_L_range)))\n",
    "        \n",
    "        # test all combinations\n",
    "        results = []\n",
    "        for comb in combinations:\n",
    "            self.set_parameters(comb[0], comb[1])\n",
    "            results.append(self.test_strategy()[0])\n",
    "        \n",
    "        best_perf = np.max(results) # best performance\n",
    "        opt = combinations[np.argmax(results)] # optimal parameters\n",
    "        \n",
    "        # run/set the optimal strategy\n",
    "        self.set_parameters(opt[0], opt[1])\n",
    "        self.test_strategy()\n",
    "                   \n",
    "        # create a df with many results\n",
    "        many_results =  pd.DataFrame(data = combinations, columns = [\"SMA_S\", \"SMA_L\"])\n",
    "        many_results[\"performance\"] = results\n",
    "        self.results_overview = many_results\n",
    "                            \n",
    "        return opt, best_perf"
   ]
  },
  {
   "cell_type": "code",
   "execution_count": null,
   "metadata": {},
   "outputs": [],
   "source": [
    "tester = SMABacktester(\"EURUSD=X\", 50, 200, \"2004-01-01\", \"2020-06-30\")"
   ]
  },
  {
   "cell_type": "code",
   "execution_count": null,
   "metadata": {},
   "outputs": [],
   "source": [
    "tester.test_strategy()"
   ]
  },
  {
   "cell_type": "code",
   "execution_count": null,
   "metadata": {},
   "outputs": [],
   "source": [
    "tester.optimize_parameters((10, 50, 1), (100, 252, 1))"
   ]
  },
  {
   "cell_type": "code",
   "execution_count": null,
   "metadata": {},
   "outputs": [],
   "source": [
    "tester.plot_results()"
   ]
  },
  {
   "cell_type": "code",
   "execution_count": null,
   "metadata": {},
   "outputs": [],
   "source": [
    "tester.results_overview"
   ]
  },
  {
   "cell_type": "code",
   "execution_count": null,
   "metadata": {},
   "outputs": [],
   "source": []
  },
  {
   "cell_type": "markdown",
   "metadata": {},
   "source": [
    "## Splitting get_data() and adding prepare_data() "
   ]
  },
  {
   "cell_type": "code",
   "execution_count": null,
   "metadata": {},
   "outputs": [],
   "source": [
    "class SMABacktester():\n",
    "    \n",
    "    def __init__(self, symbol, SMA_S, SMA_L, start, end):\n",
    "        self.symbol = symbol\n",
    "        self.SMA_S = SMA_S\n",
    "        self.SMA_L = SMA_L\n",
    "        self.start = start\n",
    "        self.end = end\n",
    "        self.results = None \n",
    "        self.get_data()\n",
    "        self.prepare_data()\n",
    "        \n",
    "    def get_data(self):\n",
    "        raw = pd.read_csv(\"forex_pairs.csv\", parse_dates = [\"Date\"], index_col = \"Date\")\n",
    "        raw = raw[self.symbol].to_frame().dropna()\n",
    "        raw = raw.loc[self.start:self.end].copy()\n",
    "        raw.rename(columns={self.symbol: \"price\"}, inplace=True)\n",
    "        raw[\"returns\"] = np.log(raw / raw.shift(1))\n",
    "        self.data = raw\n",
    "        \n",
    "    def prepare_data(self):\n",
    "        data = self.data.copy()\n",
    "        data[\"SMA_S\"] = data[\"price\"].rolling(self.SMA_S).mean()\n",
    "        data[\"SMA_L\"] = data[\"price\"].rolling(self.SMA_L).mean()\n",
    "        self.data = data\n",
    "        \n",
    "    def set_parameters(self, SMA_S = None, SMA_L = None):\n",
    "        if SMA_S is not None:\n",
    "            self.SMA_S = SMA_S\n",
    "            self.data[\"SMA_S\"] = self.data[\"price\"].rolling(self.SMA_S).mean()\n",
    "        if SMA_L is not None:\n",
    "            self.SMA_L = SMA_L\n",
    "            self.data[\"SMA_L\"] = self.data[\"price\"].rolling(self.SMA_L).mean()\n",
    "            \n",
    "    def test_strategy(self):\n",
    "        data = self.data.copy().dropna()\n",
    "        data[\"position\"] = np.where(data[\"SMA_S\"] > data[\"SMA_L\"], 1, -1)\n",
    "        data[\"strategy\"] = data[\"position\"].shift(1) * data[\"returns\"]\n",
    "        data.dropna(inplace=True)\n",
    "        data[\"creturns\"] = data[\"returns\"].cumsum().apply(np.exp)\n",
    "        data[\"cstrategy\"] = data[\"strategy\"].cumsum().apply(np.exp)\n",
    "        self.results = data\n",
    "       \n",
    "        perf = data[\"cstrategy\"].iloc[-1] # absolute performance of the strategy\n",
    "        outperf = perf - data[\"creturns\"].iloc[-1] # out-/underperformance of strategy\n",
    "        return round(perf, 6), round(outperf, 6)\n",
    "    \n",
    "    def plot_results(self):\n",
    "        if self.results is None:\n",
    "            print(\"Run test_strategy() first.\")\n",
    "        else:\n",
    "            title = \"{} | SMA_S = {} | SMA_L = {}\".format(self.symbol, self.SMA_S, self.SMA_L)\n",
    "            self.results[[\"creturns\", \"cstrategy\"]].plot(title=title, figsize=(12, 8))\n",
    "    \n",
    "    def optimize_parameters(self, SMA_S_range, SMA_L_range):\n",
    "        combinations = list(product(range(*SMA_S_range), range(*SMA_L_range)))\n",
    "        \n",
    "        # test all combinations\n",
    "        results = []\n",
    "        for comb in combinations:\n",
    "            self.set_parameters(comb[0], comb[1])\n",
    "            results.append(self.test_strategy()[0])\n",
    "        \n",
    "        best_perf = np.max(results) # best performance\n",
    "        opt = combinations[np.argmax(results)] # optimal parameters\n",
    "        \n",
    "        # run/set the optimal strategy\n",
    "        self.set_parameters(opt[0], opt[1])\n",
    "        self.test_strategy()\n",
    "                   \n",
    "        # create a df with many results\n",
    "        many_results =  pd.DataFrame(data = combinations, columns = [\"SMA_S\", \"SMA_L\"])\n",
    "        many_results[\"performance\"] = results\n",
    "        self.results_overview = many_results\n",
    "                            \n",
    "        return opt, best_perf"
   ]
  },
  {
   "cell_type": "code",
   "execution_count": null,
   "metadata": {},
   "outputs": [],
   "source": [
    "tester = SMABacktester(\"EURUSD=X\", 50, 200, \"2004-01-01\", \"2020-06-30\")"
   ]
  },
  {
   "cell_type": "code",
   "execution_count": null,
   "metadata": {},
   "outputs": [],
   "source": [
    "tester.data"
   ]
  },
  {
   "cell_type": "code",
   "execution_count": null,
   "metadata": {},
   "outputs": [],
   "source": [
    "tester.test_strategy()"
   ]
  },
  {
   "cell_type": "code",
   "execution_count": null,
   "metadata": {},
   "outputs": [],
   "source": []
  },
  {
   "cell_type": "markdown",
   "metadata": {},
   "source": [
    "## String Representation & Docstrings"
   ]
  },
  {
   "cell_type": "code",
   "execution_count": null,
   "metadata": {},
   "outputs": [],
   "source": [
    "tester"
   ]
  },
  {
   "cell_type": "code",
   "execution_count": null,
   "metadata": {},
   "outputs": [],
   "source": [
    "tester.optimize_parameters()"
   ]
  },
  {
   "cell_type": "code",
   "execution_count": null,
   "metadata": {},
   "outputs": [],
   "source": [
    "class SMABacktester():\n",
    "    ''' Class for the vectorized backtesting of SMA-based trading strategies.\n",
    "    '''\n",
    "    \n",
    "    def __init__(self, symbol, SMA_S, SMA_L, start, end):\n",
    "        '''\n",
    "        Parameters\n",
    "        ----------\n",
    "        symbol: str\n",
    "            ticker symbol (instrument) to be backtested\n",
    "        SMA_S: int\n",
    "            moving window in bars (e.g. days) for shorter SMA\n",
    "        SMA_L: int\n",
    "            moving window in bars (e.g. days) for longer SMA\n",
    "        start: str\n",
    "            start date for data import\n",
    "        end: str\n",
    "            end date for data import\n",
    "        '''\n",
    "        self.symbol = symbol\n",
    "        self.SMA_S = SMA_S\n",
    "        self.SMA_L = SMA_L\n",
    "        self.start = start\n",
    "        self.end = end\n",
    "        self.results = None \n",
    "        self.get_data()\n",
    "        self.prepare_data()\n",
    "        \n",
    "    def __repr__(self):\n",
    "        return \"SMABacktester(symbol = {}, SMA_S = {}, SMA_L = {}, start = {}, end = {})\".format(self.symbol, self.SMA_S, self.SMA_L, self.start, self.end)\n",
    "        \n",
    "    def get_data(self):\n",
    "        ''' Imports the data from forex_pairs.csv (source can be changed).\n",
    "        '''\n",
    "        raw = pd.read_csv(\"forex_pairs.csv\", parse_dates = [\"Date\"], index_col = \"Date\")\n",
    "        raw = raw[self.symbol].to_frame().dropna()\n",
    "        raw = raw.loc[self.start:self.end].copy()\n",
    "        raw.rename(columns={self.symbol: \"price\"}, inplace=True)\n",
    "        raw[\"returns\"] = np.log(raw / raw.shift(1))\n",
    "        self.data = raw\n",
    "        \n",
    "    def prepare_data(self):\n",
    "        '''Prepares the data for strategy backtesting (strategy-specific).\n",
    "        '''\n",
    "        data = self.data.copy()\n",
    "        data[\"SMA_S\"] = data[\"price\"].rolling(self.SMA_S).mean()\n",
    "        data[\"SMA_L\"] = data[\"price\"].rolling(self.SMA_L).mean()\n",
    "        self.data = data\n",
    "        \n",
    "    def set_parameters(self, SMA_S = None, SMA_L = None):\n",
    "        ''' Updates SMA parameters and the prepared dataset.\n",
    "        '''\n",
    "        if SMA_S is not None:\n",
    "            self.SMA_S = SMA_S\n",
    "            self.data[\"SMA_S\"] = self.data[\"price\"].rolling(self.SMA_S).mean()\n",
    "        if SMA_L is not None:\n",
    "            self.SMA_L = SMA_L\n",
    "            self.data[\"SMA_L\"] = self.data[\"price\"].rolling(self.SMA_L).mean()\n",
    "            \n",
    "    def test_strategy(self):\n",
    "        ''' Backtests the SMA-based trading strategy.\n",
    "        '''\n",
    "        data = self.data.copy().dropna()\n",
    "        data[\"position\"] = np.where(data[\"SMA_S\"] > data[\"SMA_L\"], 1, -1)\n",
    "        data[\"strategy\"] = data[\"position\"].shift(1) * data[\"returns\"]\n",
    "        data.dropna(inplace=True)\n",
    "        data[\"creturns\"] = data[\"returns\"].cumsum().apply(np.exp)\n",
    "        data[\"cstrategy\"] = data[\"strategy\"].cumsum().apply(np.exp)\n",
    "        self.results = data\n",
    "       \n",
    "        perf = data[\"cstrategy\"].iloc[-1] # absolute performance of the strategy\n",
    "        outperf = perf - data[\"creturns\"].iloc[-1] # out-/underperformance of strategy\n",
    "        return round(perf, 6), round(outperf, 6)\n",
    "    \n",
    "    def plot_results(self):\n",
    "        ''' Plots the performance of the trading strategy and compares to \"buy and hold\".\n",
    "        '''\n",
    "        if self.results is None:\n",
    "            print(\"Run test_strategy() first.\")\n",
    "        else:\n",
    "            title = \"{} | SMA_S = {} | SMA_L = {}\".format(self.symbol, self.SMA_S, self.SMA_L)\n",
    "            self.results[[\"creturns\", \"cstrategy\"]].plot(title=title, figsize=(12, 8))\n",
    "    \n",
    "    def optimize_parameters(self, SMA_S_range, SMA_L_range):\n",
    "        ''' Finds the optimal strategy (global maximum) given the SMA parameter ranges.\n",
    "\n",
    "        Parameters\n",
    "        ----------\n",
    "        SMA_S_range, SMA_L_range: tuple\n",
    "            tuples of the form (start, end, step size)\n",
    "        '''\n",
    "        combinations = list(product(range(*SMA_S_range), range(*SMA_L_range)))\n",
    "        \n",
    "        # test all combinations\n",
    "        results = []\n",
    "        for comb in combinations:\n",
    "            self.set_parameters(comb[0], comb[1])\n",
    "            results.append(self.test_strategy()[0])\n",
    "        \n",
    "        best_perf = np.max(results) # best performance\n",
    "        opt = combinations[np.argmax(results)] # optimal parameters\n",
    "        \n",
    "        # run/set the optimal strategy\n",
    "        self.set_parameters(opt[0], opt[1])\n",
    "        self.test_strategy()\n",
    "                   \n",
    "        # create a df with many results\n",
    "        many_results =  pd.DataFrame(data = combinations, columns = [\"SMA_S\", \"SMA_L\"])\n",
    "        many_results[\"performance\"] = results\n",
    "        self.results_overview = many_results\n",
    "                            \n",
    "        return opt, best_perf"
   ]
  },
  {
   "cell_type": "code",
   "execution_count": null,
   "metadata": {},
   "outputs": [],
   "source": [
    "tester = SMABacktester(\"EURUSD=X\", 50, 200, \"2004-01-01\", \"2020-06-30\")"
   ]
  },
  {
   "cell_type": "code",
   "execution_count": null,
   "metadata": {},
   "outputs": [],
   "source": [
    "tester"
   ]
  },
  {
   "cell_type": "code",
   "execution_count": null,
   "metadata": {},
   "outputs": [],
   "source": [
    "tester.optimize_parameters()"
   ]
  },
  {
   "cell_type": "code",
   "execution_count": null,
   "metadata": {},
   "outputs": [],
   "source": []
  }
 ],
 "metadata": {
  "kernelspec": {
   "display_name": "Python 3 (ipykernel)",
   "language": "python",
   "name": "python3"
  },
  "language_info": {
   "codemirror_mode": {
    "name": "ipython",
    "version": 3
   },
   "file_extension": ".py",
   "mimetype": "text/x-python",
   "name": "python",
   "nbconvert_exporter": "python",
   "pygments_lexer": "ipython3",
   "version": "3.9.7"
  }
 },
 "nbformat": 4,
 "nbformat_minor": 4
}
